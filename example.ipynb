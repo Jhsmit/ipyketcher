{
 "cells": [
  {
   "cell_type": "code",
   "execution_count": null,
   "metadata": {},
   "outputs": [],
   "source": [
    "%load_ext autoreload\n",
    "%autoreload 2\n",
    "%env ANYWIDGET_HMR=1\n",
    "%env IPYKETCHER_DEBUG='true'"
   ]
  },
  {
   "cell_type": "code",
   "execution_count": null,
   "metadata": {
    "scrolled": true
   },
   "outputs": [],
   "source": [
    "from ipyketcher import KetcherEditor\n",
    "\n",
    "# initial molecule, can be any supported format\n",
    "cdx = 'VmpDRDAxMDAEAwIBAAAAAAAAAAAAAAAAAAAAAAUIBAAAAB4AGggCAAMAGwgCAAQAAAEkAAAAAgACAOn9BQBBcmlhbAMA6f0PAFRpbWVzIE5ldyBSb21hbgADMgAIAP///////wAAAAAAAP//AAAAAP////8AAAAA//8AAAAA/////wAAAAD/////AAD//wGAAAAAABAIAgABAA8IAgABAAQCEAAAgOoAivSjAQCAvQD81j8CA4AEAAAABIAFAAAAAgQCAAgAKwQCAAEAAAIIAAAAAAAAAAAABoAAAAAAAAIIAAAAAAAAAAAAIwgBAAAABw4AAQAAAAMAYADIAAAAT0gAAAAABIAGAAAAAAIIAAAADwAS+xkAAAAEgAcAAAAAAggAAAAAACT2MwAAAASACAAAAAACCAAAAA8AN/FNAAAABIAJAAAAAAIIAAAAAABL7GcAAAAEgAoAAAAAAggAAAAPAGDngQAAAASACwAAAAACCAAAAAAAdOKbAAAABIAMAAAAAAIIAAAALQA38U0AAAAFgA0AAAAEBgQABQAAAAUGBAAGAAAAAAAFgA4AAAAEBgQABgAAAAUGBAAHAAAAAAAFgA8AAAAEBgQABwAAAAUGBAAIAAAAAAAFgBAAAAAEBgQACAAAAAUGBAAJAAAAAAAFgBEAAAAEBgQACQAAAAUGBAAKAAAAAAAFgBIAAAAEBgQACgAAAAUGBAALAAAAAAAFgBMAAAAEBgQACAAAAAUGBAAMAAAAAAAAAAAAAAAAAA=='\n",
    "\n",
    "editor = KetcherEditor(initial_molecule=cdx, height='400px', width='100%',\n",
    "                  return_formats=['smiles', 'molfile', 'cdx', 'rxn'])\n",
    "editor"
   ]
  }
 ],
 "metadata": {
  "kernelspec": {
   "display_name": "ipyketcher_anywidget",
   "language": "python",
   "name": "python3"
  },
  "language_info": {
   "codemirror_mode": {
    "name": "ipython",
    "version": 3
   },
   "file_extension": ".py",
   "mimetype": "text/x-python",
   "name": "python",
   "nbconvert_exporter": "python",
   "pygments_lexer": "ipython3",
   "version": "3.13.1"
  },
  "widgets": {
   "application/vnd.jupyter.widget-state+json": {
    "state": {},
    "version_major": 2,
    "version_minor": 0
   }
  }
 },
 "nbformat": 4,
 "nbformat_minor": 4
}
